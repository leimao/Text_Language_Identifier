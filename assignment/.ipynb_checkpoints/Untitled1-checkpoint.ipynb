{
 "cells": [
  {
   "cell_type": "code",
   "execution_count": 34,
   "metadata": {
    "collapsed": true
   },
   "outputs": [],
   "source": [
    "import pickle\n",
    "import numpy as np\n",
    "import json\n",
    "from model import *"
   ]
  },
  {
   "cell_type": "code",
   "execution_count": 35,
   "metadata": {
    "collapsed": true
   },
   "outputs": [],
   "source": [
    "MODEL_FILENAME = 'saved_model.pkl'\n",
    "LABEL_ENCODER_FILENAME = 'saved_label_encoder.pkl'\n",
    "TEST_DATA_FILENAME = 'test_X_languages_homework.json.txt'\n",
    "TRAIN_DATA_FILENAME = 'train_X_languages_homework.json.txt'"
   ]
  },
  {
   "cell_type": "code",
   "execution_count": null,
   "metadata": {
    "collapsed": true
   },
   "outputs": [],
   "source": []
  },
  {
   "cell_type": "code",
   "execution_count": 36,
   "metadata": {
    "collapsed": true
   },
   "outputs": [],
   "source": [
    "test_data = read_data(path = TRAIN_DATA_FILENAME)"
   ]
  },
  {
   "cell_type": "code",
   "execution_count": 37,
   "metadata": {},
   "outputs": [],
   "source": [
    "test_data = test_data[0:2000]"
   ]
  },
  {
   "cell_type": "code",
   "execution_count": 38,
   "metadata": {
    "collapsed": true
   },
   "outputs": [],
   "source": [
    "model_filename = MODEL_FILENAME\n",
    "label_encoder_filename = LABEL_ENCODER_FILENAME\n",
    "test_data_filename = TEST_DATA_FILENAME"
   ]
  },
  {
   "cell_type": "code",
   "execution_count": 39,
   "metadata": {},
   "outputs": [
    {
     "name": "stderr",
     "output_type": "stream",
     "text": [
      "/home/marine/anaconda3/lib/python3.6/site-packages/sklearn/base.py:311: UserWarning: Trying to unpickle estimator LabelEncoder from version 0.18.1 when using version 0.19.1. This might lead to breaking code or invalid results. Use at your own risk.\n",
      "  UserWarning)\n"
     ]
    }
   ],
   "source": [
    "with open(label_encoder_filename, 'rb') as file:  \n",
    "    le = pickle.load(file)"
   ]
  },
  {
   "cell_type": "code",
   "execution_count": 40,
   "metadata": {},
   "outputs": [
    {
     "data": {
      "text/plain": [
       "'az'"
      ]
     },
     "execution_count": 40,
     "metadata": {},
     "output_type": "execute_result"
    }
   ],
   "source": [
    "le.inverse_transform(1)"
   ]
  },
  {
   "cell_type": "code",
   "execution_count": 41,
   "metadata": {},
   "outputs": [
    {
     "name": "stderr",
     "output_type": "stream",
     "text": [
      "/home/marine/anaconda3/lib/python3.6/site-packages/sklearn/base.py:311: UserWarning: Trying to unpickle estimator LogisticRegression from version 0.18.1 when using version 0.19.1. This might lead to breaking code or invalid results. Use at your own risk.\n",
      "  UserWarning)\n"
     ]
    }
   ],
   "source": [
    "# Load model from file\n",
    "with open(model_filename, 'rb') as file:  \n",
    "    model = pickle.load(file)"
   ]
  },
  {
   "cell_type": "code",
   "execution_count": 42,
   "metadata": {
    "collapsed": true
   },
   "outputs": [],
   "source": [
    "n_gram_list = load_n_grams(filename = 'n_grams.txt')"
   ]
  },
  {
   "cell_type": "code",
   "execution_count": 43,
   "metadata": {
    "collapsed": true
   },
   "outputs": [],
   "source": [
    "data_n_gram_test = prepare_n_gram_dataset(dataset = test_data, ns = [1,2,3], n_gram_list = n_gram_list)"
   ]
  },
  {
   "cell_type": "code",
   "execution_count": 44,
   "metadata": {
    "collapsed": true
   },
   "outputs": [],
   "source": [
    "prediction = model.predict(data_n_gram_test)"
   ]
  },
  {
   "cell_type": "code",
   "execution_count": 45,
   "metadata": {},
   "outputs": [],
   "source": [
    "prediction_language = list(le.inverse_transform(prediction))"
   ]
  },
  {
   "cell_type": "code",
   "execution_count": 49,
   "metadata": {},
   "outputs": [
    {
     "data": {
      "text/plain": [
       "['Lacus class fames',\n",
       " 'στην Πλατεία του',\n",
       " 'מפני שטעו לחשוב',\n",
       " '• Florida •',\n",
       " '. Siehe auch : Liste der Landschaften in Nordrhein-Westfalen',\n",
       " 'Сицзян ) расположен',\n",
       " '. Deshalb wird',\n",
       " 'Uí Fiachrach · Uí Briúin · Uí Néill · Síl',\n",
       " 'v srednjeveški latinščini',\n",
       " 'menjadi embrio .',\n",
       " 'prevalentemente su testo',\n",
       " 'Anversa 1920 ·',\n",
       " ' Albania  •  Andora  •  Armenia  •  Austria  •  Azerbejdżan  •  Belgia  •  Bośnia i Hercegowina  •  Bułgaria  •  Chorwacja  •  Cypr  •  Czarnogóra  •  Czechy  •  Dania  •  Estonia  •  Finlandia  •  Francja  •  Grecja  •  Gruzja  •  Hiszpania  •  Holandia  •  Irlandia  •  Islandia  •  Liechtenstein  •  Litwa  •  Luksemburg  •  Łotwa  •  Macedonia  •  Malta  •  Mołdawia  •  Monako  •  Niemcy  •  Norwegia  •  Polska  •  Portugalia  •  Rosja  •  Rumunia  •  San Marino  •  Serbia  •  Słowacja  •  Słowenia  •  Szwajcaria  •  Szwecja  •  Turcja  •  Ukraina  •  Węgry  •  Wielka Brytania  •  Włochy ',\n",
       " 'acima , os',\n",
       " 'Krst pri Savici',\n",
       " 'čeprav so mu domači in strici duhovniki odtegovali denarno pomoč . Kljub temu mu je uspelo shajati , saj je bil od leta 1822 Knafljev štipendist , še vedno mu je pomagal stric Jožef , denar pa si je služil',\n",
       " '; den lovgivende makt , som ligger hos monarken og',\n",
       " 'advertisement addressed to members of the House of Representatives .',\n",
       " ', Java eta sistema eragile modernoak . ASCII karaktereen multzoan',\n",
       " 'Institut Verdaguer )',\n",
       " 'Minangkabau ( Jamee',\n",
       " 'soviéticas excepto Georgia , inclusive las 3 repúblicas que habían',\n",
       " 'адносна стварэння сумеснага',\n",
       " 'ser calibrados cunha',\n",
       " 'u društvu i životu čovjeka . Martin Luther postavljao je',\n",
       " 'kalırsanız elimden gelen',\n",
       " 'poveikio aplinkai pasekmių . Pasirenkant eksploatacijos nutraukimo būdą įtakos turėjo įvairūs veiksniai : ekonominiai , socialiniai , saugos aspektai , bei eksploatacijos nutraukimo darbų kitose branduolinėse elektrinėse vykdymo patirtis . Už nedelstiną išmontavimo būdą pasisakė ir Ignalinos AE atstovai ,',\n",
       " '. În timpul',\n",
       " 'Portuqaliyadan çoxlu sayda',\n",
       " '이력서가 촬영부가 아닌']"
      ]
     },
     "execution_count": 49,
     "metadata": {},
     "output_type": "execute_result"
    }
   ],
   "source": [
    "#print(test_data[0:30])"
   ]
  },
  {
   "cell_type": "code",
   "execution_count": 50,
   "metadata": {},
   "outputs": [
    {
     "data": {
      "text/plain": [
       "['ko',\n",
       " 'ko',\n",
       " 'el',\n",
       " 'ja',\n",
       " 'ko',\n",
       " 'az',\n",
       " 'ko',\n",
       " 'ja',\n",
       " 'ko',\n",
       " 'ko',\n",
       " 'th',\n",
       " 'ja',\n",
       " 'ko',\n",
       " 'zh',\n",
       " 'th',\n",
       " 'ko',\n",
       " 'ko',\n",
       " 'th',\n",
       " 'ko',\n",
       " 'zh',\n",
       " 'ko',\n",
       " 'ko',\n",
       " 'az',\n",
       " 'uk',\n",
       " 'ko',\n",
       " 'ko',\n",
       " 'vo',\n",
       " 'th',\n",
       " 'ko',\n",
       " 'zh']"
      ]
     },
     "execution_count": 50,
     "metadata": {},
     "output_type": "execute_result"
    }
   ],
   "source": [
    "print(prediction_language[0:30])"
   ]
  },
  {
   "cell_type": "code",
   "execution_count": 48,
   "metadata": {},
   "outputs": [
    {
     "data": {
      "text/plain": [
       "2000"
      ]
     },
     "execution_count": 48,
     "metadata": {},
     "output_type": "execute_result"
    }
   ],
   "source": [
    "len(test_data)"
   ]
  },
  {
   "cell_type": "code",
   "execution_count": null,
   "metadata": {
    "collapsed": true
   },
   "outputs": [],
   "source": []
  }
 ],
 "metadata": {
  "kernelspec": {
   "display_name": "Python 3",
   "language": "python",
   "name": "python3"
  },
  "language_info": {
   "codemirror_mode": {
    "name": "ipython",
    "version": 3
   },
   "file_extension": ".py",
   "mimetype": "text/x-python",
   "name": "python",
   "nbconvert_exporter": "python",
   "pygments_lexer": "ipython3",
   "version": "3.6.3"
  }
 },
 "nbformat": 4,
 "nbformat_minor": 2
}
