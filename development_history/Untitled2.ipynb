{
 "cells": [
  {
   "cell_type": "code",
   "execution_count": 1,
   "metadata": {},
   "outputs": [
    {
     "name": "stderr",
     "output_type": "stream",
     "text": [
      "/home/marine/anaconda3/lib/python3.6/site-packages/sklearn/base.py:311: UserWarning: Trying to unpickle estimator LogisticRegression from version 0.18.1 when using version 0.19.1. This might lead to breaking code or invalid results. Use at your own risk.\n",
      "  UserWarning)\n",
      "/home/marine/anaconda3/lib/python3.6/site-packages/sklearn/base.py:311: UserWarning: Trying to unpickle estimator LabelEncoder from version 0.18.1 when using version 0.19.1. This might lead to breaking code or invalid results. Use at your own risk.\n",
      "  UserWarning)\n"
     ]
    },
    {
     "name": "stdout",
     "output_type": "stream",
     "text": [
      "Metric 1: 0.807000\n",
      "Metric 2: 0.807000\n"
     ]
    }
   ],
   "source": [
    "import pickle\n",
    "import numpy as np\n",
    "import json\n",
    "from model import *\n",
    "\n",
    "MODEL_FILENAME = 'saved_model.pkl'\n",
    "LABEL_ENCODER_FILENAME = 'saved_label_encoder.pkl'\n",
    "TEST_DATA_FILENAME = 'test_X_languages_homework.json.txt'\n",
    "TRAIN_DATA_FILENAME = 'train_X_languages_homework.json.txt'\n",
    "TRAIN_LABEL_FILENAME = 'train_y_languages_homework.json.txt'\n",
    "\n",
    "\n",
    "def calculate_accuracy(predictions, labels):\n",
    "    total = 0\n",
    "    correct = 0\n",
    "    for prediction, label in zip(predictions, labels):\n",
    "        total += 1\n",
    "        if prediction == label:\n",
    "            correct += 1\n",
    "    return float(correct)/total\n",
    "        \n",
    "\n",
    "\n",
    "\n",
    "\n",
    "if __name__ == '__main__':\n",
    "\n",
    "\n",
    "    model_filename = MODEL_FILENAME\n",
    "    label_encoder_filename = LABEL_ENCODER_FILENAME\n",
    "    test_data_filename = TEST_DATA_FILENAME\n",
    "\n",
    "\n",
    "    # Load model from file\n",
    "    with open(model_filename, 'rb') as file:  \n",
    "        model = pickle.load(file)\n",
    "\n",
    "    # Load label encoder from file\n",
    "    with open(label_encoder_filename, 'rb') as file:  \n",
    "        le = pickle.load(file)\n",
    "\n",
    "    dataset = read_data(path = TRAIN_DATA_FILENAME)[0:1000]\n",
    "    labelset = read_label(path = TRAIN_LABEL_FILENAME)[0:1000]\n",
    "    labelset_numeric = le.transform(labelset)\n",
    "\n",
    "    n_gram_list = load_n_grams(filename = 'n_grams.txt')\n",
    "    data_n_gram = prepare_n_gram_dataset(dataset = dataset, ns = [1,2,3], n_gram_list = n_gram_list)\n",
    "\n",
    "    predictions = model.predict(data_n_gram)\n",
    "    predictions = list(le.inverse_transform(predictions))\n",
    "\n",
    "\n",
    "\n",
    "    print(\"Metric 1: %f\" %model.score(data_n_gram, labelset_numeric))\n",
    "\n",
    "    print(\"Metric 2: %f\" %calculate_accuracy(predictions = predictions, labels = labelset))"
   ]
  },
  {
   "cell_type": "code",
   "execution_count": 5,
   "metadata": {},
   "outputs": [
    {
     "data": {
      "text/plain": [
       "['Minangkabau ( Jamee',\n",
       " 'soviéticas excepto Georgia , inclusive las 3 repúblicas que habían',\n",
       " 'адносна стварэння сумеснага',\n",
       " 'ser calibrados cunha',\n",
       " 'u društvu i životu čovjeka . Martin Luther postavljao je',\n",
       " 'kalırsanız elimden gelen',\n",
       " 'poveikio aplinkai pasekmių . Pasirenkant eksploatacijos nutraukimo būdą įtakos turėjo įvairūs veiksniai : ekonominiai , socialiniai , saugos aspektai , bei eksploatacijos nutraukimo darbų kitose branduolinėse elektrinėse vykdymo patirtis . Už nedelstiną išmontavimo būdą pasisakė ir Ignalinos AE atstovai ,',\n",
       " '. În timpul',\n",
       " 'Portuqaliyadan çoxlu sayda',\n",
       " '이력서가 촬영부가 아닌',\n",
       " 'semaine [ 31',\n",
       " 'Bourbon , who',\n",
       " ', con el',\n",
       " \"tế học ; và tiếp sức mạnh cho tất cả các hoạt động đó bằng tinh thần nghiên cứu mạnh mẽ . '' [ 12 ] Năm 1923 , Millikan được trao giải Nobel Vật lý . Năm 1925 ,\",\n",
       " ', Igrama dobre',\n",
       " 'Brasil e em',\n",
       " 'Allí es donde tuvo conocimiento con el fascismo , fenómeno que siguió desde sus primeros artículos . También tuvo contacto con la cultura clásica y renacentista . Viviría en Italia durante siete años ( 1922-1929 ) , durante los cuales',\n",
       " 'مليون برميل سنويًا، وفي قطاع الصناعات البتروكيميائية وهو أكبر قطاع',\n",
       " 'NH 183 (',\n",
       " 'mã nguồn ]']"
      ]
     },
     "execution_count": 5,
     "metadata": {},
     "output_type": "execute_result"
    }
   ],
   "source": [
    "dataset[20:40]"
   ]
  },
  {
   "cell_type": "code",
   "execution_count": 6,
   "metadata": {},
   "outputs": [
    {
     "data": {
      "text/plain": [
       "['id',\n",
       " 'es',\n",
       " 'be',\n",
       " 'gl',\n",
       " 'sh',\n",
       " 'tr',\n",
       " 'lt',\n",
       " 'ro',\n",
       " 'az',\n",
       " 'ko',\n",
       " 'fr',\n",
       " 'en',\n",
       " 'es',\n",
       " 'vi',\n",
       " 'hr',\n",
       " 'pt',\n",
       " 'es',\n",
       " 'ar',\n",
       " 'en',\n",
       " 'vi']"
      ]
     },
     "execution_count": 6,
     "metadata": {},
     "output_type": "execute_result"
    }
   ],
   "source": [
    "labelset[20:40]"
   ]
  },
  {
   "cell_type": "code",
   "execution_count": 3,
   "metadata": {},
   "outputs": [
    {
     "data": {
      "text/plain": [
       "['lorem',\n",
       " 'el',\n",
       " 'he',\n",
       " 'pt',\n",
       " 'de',\n",
       " 'ru',\n",
       " 'de',\n",
       " 'hu',\n",
       " 'sl',\n",
       " 'pt',\n",
       " 'it',\n",
       " 'vi',\n",
       " 'pl',\n",
       " 'sh',\n",
       " 'ro',\n",
       " 'sl',\n",
       " 'no',\n",
       " 'en',\n",
       " 'eu',\n",
       " 'nl']"
      ]
     },
     "execution_count": 3,
     "metadata": {},
     "output_type": "execute_result"
    }
   ],
   "source": [
    "predictions[0:20]"
   ]
  },
  {
   "cell_type": "code",
   "execution_count": null,
   "metadata": {
    "collapsed": true
   },
   "outputs": [],
   "source": []
  }
 ],
 "metadata": {
  "kernelspec": {
   "display_name": "Python 3",
   "language": "python",
   "name": "python3"
  },
  "language_info": {
   "codemirror_mode": {
    "name": "ipython",
    "version": 3
   },
   "file_extension": ".py",
   "mimetype": "text/x-python",
   "name": "python",
   "nbconvert_exporter": "python",
   "pygments_lexer": "ipython3",
   "version": "3.6.3"
  }
 },
 "nbformat": 4,
 "nbformat_minor": 2
}
